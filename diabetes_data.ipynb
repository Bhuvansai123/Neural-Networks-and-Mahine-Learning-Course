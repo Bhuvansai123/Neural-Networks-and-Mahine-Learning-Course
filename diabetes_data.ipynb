{
  "nbformat": 4,
  "nbformat_minor": 0,
  "metadata": {
    "colab": {
      "provenance": []
    },
    "kernelspec": {
      "name": "python3",
      "display_name": "Python 3"
    },
    "language_info": {
      "name": "python"
    },
    "accelerator": "TPU",
    "gpuClass": "standard"
  },
  "cells": [
    {
      "cell_type": "code",
      "source": [
        "import numpy as np\n",
        "import pandas as pd\n",
        "import sklearn\n",
        "from sklearn import datasets\n"
      ],
      "metadata": {
        "id": "KIhnklMLLZuW"
      },
      "execution_count": 1,
      "outputs": []
    },
    {
      "cell_type": "code",
      "source": [
        "diabetes= datasets.load_diabetes()"
      ],
      "metadata": {
        "id": "YTeu-bm2L6US"
      },
      "execution_count": 2,
      "outputs": []
    },
    {
      "cell_type": "code",
      "source": [
        "diabetes.data[0]"
      ],
      "metadata": {
        "colab": {
          "base_uri": "https://localhost:8080/"
        },
        "id": "Vaw6kmkdMpQ6",
        "outputId": "c737248a-cf52-437b-e97e-431ea1f975e8"
      },
      "execution_count": 3,
      "outputs": [
        {
          "output_type": "execute_result",
          "data": {
            "text/plain": [
              "array([ 0.03807591,  0.05068012,  0.06169621,  0.02187235, -0.0442235 ,\n",
              "       -0.03482076, -0.04340085, -0.00259226,  0.01990842, -0.01764613])"
            ]
          },
          "metadata": {},
          "execution_count": 3
        }
      ]
    },
    {
      "cell_type": "code",
      "source": [
        "np.sum(diabetes.data[:,0]**2)"
      ],
      "metadata": {
        "colab": {
          "base_uri": "https://localhost:8080/"
        },
        "id": "pfx3rq7xMwQR",
        "outputId": "ab1f1f55-f6c8-4a66-a3d7-8bd090bde140"
      },
      "execution_count": 4,
      "outputs": [
        {
          "output_type": "execute_result",
          "data": {
            "text/plain": [
              "1.0000000000000746"
            ]
          },
          "metadata": {},
          "execution_count": 4
        }
      ]
    },
    {
      "cell_type": "code",
      "source": [
        "diabetes.target"
      ],
      "metadata": {
        "colab": {
          "base_uri": "https://localhost:8080/"
        },
        "id": "ZxX08TmWM__z",
        "outputId": "5c34daf4-f3cf-4f4a-8d63-2da1b54b13c4"
      },
      "execution_count": 5,
      "outputs": [
        {
          "output_type": "execute_result",
          "data": {
            "text/plain": [
              "array([151.,  75., 141., 206., 135.,  97., 138.,  63., 110., 310., 101.,\n",
              "        69., 179., 185., 118., 171., 166., 144.,  97., 168.,  68.,  49.,\n",
              "        68., 245., 184., 202., 137.,  85., 131., 283., 129.,  59., 341.,\n",
              "        87.,  65., 102., 265., 276., 252.,  90., 100.,  55.,  61.,  92.,\n",
              "       259.,  53., 190., 142.,  75., 142., 155., 225.,  59., 104., 182.,\n",
              "       128.,  52.,  37., 170., 170.,  61., 144.,  52., 128.,  71., 163.,\n",
              "       150.,  97., 160., 178.,  48., 270., 202., 111.,  85.,  42., 170.,\n",
              "       200., 252., 113., 143.,  51.,  52., 210.,  65., 141.,  55., 134.,\n",
              "        42., 111.,  98., 164.,  48.,  96.,  90., 162., 150., 279.,  92.,\n",
              "        83., 128., 102., 302., 198.,  95.,  53., 134., 144., 232.,  81.,\n",
              "       104.,  59., 246., 297., 258., 229., 275., 281., 179., 200., 200.,\n",
              "       173., 180.,  84., 121., 161.,  99., 109., 115., 268., 274., 158.,\n",
              "       107.,  83., 103., 272.,  85., 280., 336., 281., 118., 317., 235.,\n",
              "        60., 174., 259., 178., 128.,  96., 126., 288.,  88., 292.,  71.,\n",
              "       197., 186.,  25.,  84.,  96., 195.,  53., 217., 172., 131., 214.,\n",
              "        59.,  70., 220., 268., 152.,  47.,  74., 295., 101., 151., 127.,\n",
              "       237., 225.,  81., 151., 107.,  64., 138., 185., 265., 101., 137.,\n",
              "       143., 141.,  79., 292., 178.,  91., 116.,  86., 122.,  72., 129.,\n",
              "       142.,  90., 158.,  39., 196., 222., 277.,  99., 196., 202., 155.,\n",
              "        77., 191.,  70.,  73.,  49.,  65., 263., 248., 296., 214., 185.,\n",
              "        78.,  93., 252., 150.,  77., 208.,  77., 108., 160.,  53., 220.,\n",
              "       154., 259.,  90., 246., 124.,  67.,  72., 257., 262., 275., 177.,\n",
              "        71.,  47., 187., 125.,  78.,  51., 258., 215., 303., 243.,  91.,\n",
              "       150., 310., 153., 346.,  63.,  89.,  50.,  39., 103., 308., 116.,\n",
              "       145.,  74.,  45., 115., 264.,  87., 202., 127., 182., 241.,  66.,\n",
              "        94., 283.,  64., 102., 200., 265.,  94., 230., 181., 156., 233.,\n",
              "        60., 219.,  80.,  68., 332., 248.,  84., 200.,  55.,  85.,  89.,\n",
              "        31., 129.,  83., 275.,  65., 198., 236., 253., 124.,  44., 172.,\n",
              "       114., 142., 109., 180., 144., 163., 147.,  97., 220., 190., 109.,\n",
              "       191., 122., 230., 242., 248., 249., 192., 131., 237.,  78., 135.,\n",
              "       244., 199., 270., 164.,  72.,  96., 306.,  91., 214.,  95., 216.,\n",
              "       263., 178., 113., 200., 139., 139.,  88., 148.,  88., 243.,  71.,\n",
              "        77., 109., 272.,  60.,  54., 221.,  90., 311., 281., 182., 321.,\n",
              "        58., 262., 206., 233., 242., 123., 167.,  63., 197.,  71., 168.,\n",
              "       140., 217., 121., 235., 245.,  40.,  52., 104., 132.,  88.,  69.,\n",
              "       219.,  72., 201., 110.,  51., 277.,  63., 118.,  69., 273., 258.,\n",
              "        43., 198., 242., 232., 175.,  93., 168., 275., 293., 281.,  72.,\n",
              "       140., 189., 181., 209., 136., 261., 113., 131., 174., 257.,  55.,\n",
              "        84.,  42., 146., 212., 233.,  91., 111., 152., 120.,  67., 310.,\n",
              "        94., 183.,  66., 173.,  72.,  49.,  64.,  48., 178., 104., 132.,\n",
              "       220.,  57.])"
            ]
          },
          "metadata": {},
          "execution_count": 5
        }
      ]
    },
    {
      "cell_type": "code",
      "source": [
        "from sklearn import linear_model\n",
        "linreg=linear_model.LinearRegression()\n",
        "from sklearn import datasets\n",
        "diabetes=datasets.load_diabetes()\n",
        "x_train=diabetes.data[:-30]\n",
        "y_train=diabetes.target[:-30]\n",
        "x_test=diabetes.data[-30:]\n",
        "y_test=diabetes.target[-30:]"
      ],
      "metadata": {
        "id": "ei8TKyOjNNo-"
      },
      "execution_count": 6,
      "outputs": []
    },
    {
      "cell_type": "code",
      "source": [
        "linreg.fit(x_train,y_train)"
      ],
      "metadata": {
        "colab": {
          "base_uri": "https://localhost:8080/"
        },
        "id": "VeQuzodYTc5z",
        "outputId": "364cddb9-1f5b-4e7d-e77f-a3f672b61b2e"
      },
      "execution_count": 7,
      "outputs": [
        {
          "output_type": "execute_result",
          "data": {
            "text/plain": [
              "LinearRegression()"
            ]
          },
          "metadata": {},
          "execution_count": 7
        }
      ]
    },
    {
      "cell_type": "code",
      "source": [
        "linreg.coef_"
      ],
      "metadata": {
        "colab": {
          "base_uri": "https://localhost:8080/"
        },
        "id": "wpvTQFe3Tl29",
        "outputId": "9dfb45ad-29fc-4e3b-e18b-514ace62d48e"
      },
      "execution_count": 8,
      "outputs": [
        {
          "output_type": "execute_result",
          "data": {
            "text/plain": [
              "array([  -1.16924976, -237.18461486,  518.30606657,  309.04865826,\n",
              "       -763.14121622,  458.90999325,   80.62441437,  174.32183366,\n",
              "        721.49712065,   79.19307944])"
            ]
          },
          "metadata": {},
          "execution_count": 8
        }
      ]
    },
    {
      "cell_type": "code",
      "source": [
        "linreg.predict(x_test)"
      ],
      "metadata": {
        "colab": {
          "base_uri": "https://localhost:8080/"
        },
        "id": "H8l-EPZzTsEV",
        "outputId": "0596d22b-1972-4273-fb30-bfd60139ddc4"
      },
      "execution_count": 9,
      "outputs": [
        {
          "output_type": "execute_result",
          "data": {
            "text/plain": [
              "array([234.04069476, 122.92246614, 166.35433115, 174.39222892,\n",
              "       226.94851442, 151.82190227, 100.94358512,  83.08956073,\n",
              "       143.1298667 , 192.67823683, 197.98434449, 154.37965196,\n",
              "       173.16544327, 112.38886823, 164.20528828, 131.63666326,\n",
              "       258.66439447, 101.4126313 , 117.87101994, 123.5370635 ,\n",
              "       219.5123662 ,  62.09123359, 133.09435929, 121.33048447,\n",
              "        53.51502538, 193.125764  , 104.69007361, 123.68983031,\n",
              "       211.27336049,  53.87045485])"
            ]
          },
          "metadata": {},
          "execution_count": 9
        }
      ]
    },
    {
      "cell_type": "code",
      "source": [
        "y_test"
      ],
      "metadata": {
        "colab": {
          "base_uri": "https://localhost:8080/"
        },
        "id": "lj1Kl9L2TzIJ",
        "outputId": "d752ba34-7440-4d71-a6aa-684cdd51f4d0"
      },
      "execution_count": 10,
      "outputs": [
        {
          "output_type": "execute_result",
          "data": {
            "text/plain": [
              "array([261., 113., 131., 174., 257.,  55.,  84.,  42., 146., 212., 233.,\n",
              "        91., 111., 152., 120.,  67., 310.,  94., 183.,  66., 173.,  72.,\n",
              "        49.,  64.,  48., 178., 104., 132., 220.,  57.])"
            ]
          },
          "metadata": {},
          "execution_count": 10
        }
      ]
    },
    {
      "cell_type": "code",
      "source": [
        "linreg.score(x_test,y_test)"
      ],
      "metadata": {
        "colab": {
          "base_uri": "https://localhost:8080/"
        },
        "id": "dqGCsFWkT4jk",
        "outputId": "a2d67719-88f1-4f10-b8f9-d1cf2d422f04"
      },
      "execution_count": 11,
      "outputs": [
        {
          "output_type": "execute_result",
          "data": {
            "text/plain": [
              "0.6454848658857961"
            ]
          },
          "metadata": {},
          "execution_count": 11
        }
      ]
    },
    {
      "cell_type": "code",
      "source": [
        "import numpy as np\n",
        "import matplotlib.pyplot as plt\n",
        "from sklearn import linear_model\n",
        "from sklearn import datasets\n",
        "diabetes=datasets.load_diabetes()\n",
        "x_train=diabetes.data[:-30]\n",
        "y_train=diabetes.target[:-30]\n",
        "x_test=diabetes.data[-30:]\n",
        "y_test=diabetes.target[-30:]\n",
        "\n",
        "x0_test=x_test[:,0]\n",
        "x0_train=x_train[:,0]\n",
        "x0_test=x0_test[:,np.newaxis]\n",
        "x0_train=x0_train[:,np.newaxis]\n",
        "linreg = linear_model.LinearRegression()\n",
        "linreg.fit(x0_train, y_train)\n",
        "y = linreg.predict(x0_test)\n",
        "plt.scatter(x0_test, y_test, color='k')\n",
        "plt.plot(x0_test, y, color='b', linewidth=3)\n",
        "plt.show()"
      ],
      "metadata": {
        "colab": {
          "base_uri": "https://localhost:8080/",
          "height": 265
        },
        "id": "oY2K-hM6T4rW",
        "outputId": "c4430e7f-161e-48ef-f8ed-efa99810dc66"
      },
      "execution_count": 12,
      "outputs": [
        {
          "output_type": "display_data",
          "data": {
            "text/plain": [
              "<Figure size 432x288 with 1 Axes>"
            ],
            "image/png": "[encoded data removed]"
          },
          "metadata": {
            "needs_background": "light"
          }
        }
      ]
    },
    {
      "cell_type": "code",
      "source": [
        "import numpy as np\n",
        "import matplotlib.pyplot as plt\n",
        "from sklearn import linear_model\n",
        "from sklearn import datasets\n",
        "diabetes = datasets.load_diabetes()\n",
        "x_train = diabetes.data[:-20]\n",
        "y_train = diabetes.target[:-20]\n",
        "x_test = diabetes.data[-20:]\n",
        "y_test = diabetes.target[-20:]\n",
        "\n",
        "plt.figure(figsize=(8,12))\n",
        "for f in range(0,10):\n",
        "    xi_test = x_test[:,f]\n",
        "    xi_train = x_train[:,f]\n",
        "    xi_test = xi_test[:,np.newaxis]\n",
        "    xi_train = xi_train[:,np.newaxis]\n",
        "    linreg.fit(xi_train, y_train)\n",
        "    y = linreg.predict(xi_test)\n",
        "    plt.subplot(5,2,f+1)\n",
        "    plt.scatter(xi_test,y_test,color='k')\n",
        "    plt.plot(xi_test, y, color='b', linewidth=3)\n",
        "plt.show()"
      ],
      "metadata": {
        "colab": {
          "base_uri": "https://localhost:8080/",
          "height": 700
        },
        "id": "_1CR0686T4uQ",
        "outputId": "932fda62-128e-4f5d-c779-9119038ea3de"
      },
      "execution_count": 13,
      "outputs": [
        {
          "output_type": "display_data",
          "data": {
            "text/plain": [
              "<Figure size 576x864 with 10 Axes>"
            ],
            "image/png": "[encoded data removed]"
          },
          "metadata": {
            "needs_background": "light"
          }
        }
      ]
    }
  ]
}